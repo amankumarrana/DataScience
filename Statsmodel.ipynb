{
 "cells": [
  {
   "cell_type": "code",
   "execution_count": 5,
   "metadata": {},
   "outputs": [
    {
     "name": "stdout",
     "output_type": "stream",
     "text": [
      "                            OLS Regression Results                            \n",
      "==============================================================================\n",
      "Dep. Variable:                      y   R-squared:                       0.996\n",
      "Model:                            OLS   Adj. R-squared:                  0.996\n",
      "Method:                 Least Squares   F-statistic:                 2.277e+04\n",
      "Date:                Sat, 27 Jan 2018   Prob (F-statistic):          7.49e-118\n",
      "Time:                        10:38:05   Log-Likelihood:                -136.27\n",
      "No. Observations:                 100   AIC:                             276.5\n",
      "Df Residuals:                      98   BIC:                             281.7\n",
      "Df Model:                           1                                         \n",
      "Covariance Type:            nonrobust                                         \n",
      "==============================================================================\n",
      "                 coef    std err          t      P>|t|      [95.0% Conf. Int.]\n",
      "------------------------------------------------------------------------------\n",
      "Intercept    -20.1285      0.190   -106.190      0.000       -20.505   -19.752\n",
      "x              0.4992      0.003    150.896      0.000         0.493     0.506\n",
      "==============================================================================\n",
      "Omnibus:                        1.578   Durbin-Watson:                   1.783\n",
      "Prob(Omnibus):                  0.454   Jarque-Bera (JB):                1.381\n",
      "Skew:                          -0.137   Prob(JB):                        0.501\n",
      "Kurtosis:                       2.493   Cond. No.                         114.\n",
      "==============================================================================\n",
      "\n",
      "Warnings:\n",
      "[1] Standard Errors assume that the covariance matrix of the errors is correctly specified.\n"
     ]
    }
   ],
   "source": [
    "import numpy as np\n",
    "import pandas as pd\n",
    "import statsmodels.formula.api as sm\n",
    "x = np.arange(100)\n",
    "y = 0.5*x -20 + np.random.randn(len(x))\n",
    "df = pd.DataFrame({'X': x , 'Y' : y})\n",
    "model = sm.ols('y~x', data=df).fit()\n",
    "print( model.summary() )"
   ]
  }
 ],
 "metadata": {
  "kernelspec": {
   "display_name": "Python 2",
   "language": "python",
   "name": "python2"
  },
  "language_info": {
   "codemirror_mode": {
    "name": "ipython",
    "version": 2
   },
   "file_extension": ".py",
   "mimetype": "text/x-python",
   "name": "python",
   "nbconvert_exporter": "python",
   "pygments_lexer": "ipython2",
   "version": "2.7.14"
  }
 },
 "nbformat": 4,
 "nbformat_minor": 2
}
